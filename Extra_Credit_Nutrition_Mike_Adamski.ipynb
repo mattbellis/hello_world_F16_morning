{
 "cells": [
  {
   "cell_type": "markdown",
   "metadata": {},
   "source": [
    "**Mike Adamski**\n",
    "\n",
    "## Nutrition Information - Extra Credit\n",
    "\n",
    "The goal of this project is to provide an individual based upon their fitness objective, specific goals in terms of diet, nutritional information and some sample workout circuits.\n",
    "\n",
    "For example: If an individual wishes to \"Bulk Up\" the program will inform them of their target caloric, protein, fat, etc. intake levels. In addition, it will compare their daily food intake with their daily total goals and provide workout recommendations. \n",
    "\n",
    "This will be done in *three* portions:\n",
    "\n",
    "***Part 1:*** Will save the users preferences and display some basic nutrional recommendations.\n",
    "\n",
    "***Part 2:*** Will take the users dietary intake for the day and compare it against the prior recommendations.\n",
    "\n",
    "***Part 3:*** Will create a program which outputs some sample workout circuits for the user."
   ]
  },
  {
   "cell_type": "code",
   "execution_count": null,
   "metadata": {
    "collapsed": false
   },
   "outputs": [],
   "source": [
    "#Part 1\n",
    "bulk = False\n",
    "maintain = False\n",
    "cut = False\n",
    "cal = 0\n",
    "fat = 0\n",
    "carb = 0\n",
    "prot = 0\n",
    "\n",
    "def userGoals(obj,weight):\n",
    "    if(obj == \"Bulk\" or obj == \"bulk\" or obj == \"Bulk Up\" or obj == \"bulk up\"):\n",
    "        bulk = True\n",
    "        cal = 2600\n",
    "        fat = .5 * weight \n",
    "        prot = .9 * weight\n",
    "        carb = 300\n",
    "        print \"So you wish to bulk up? You will probably want to aim for the following: \"\n",
    "    if(obj == \"maintain\" or obj == \"Maintain\"):\n",
    "        maintain = True\n",
    "        cal = 2100\n",
    "        fat = .4 * weight \n",
    "        prot = .9 * weight\n",
    "        carb = 150\n",
    "        print \"So you want to maintain your current status? You will probably want to aim for the following: \"\n",
    "    if(obj == \"Cut\" or obj == \"cut\" or obj == \"cutting\"):\n",
    "        cut = True\n",
    "        cal = 1600\n",
    "        fat = .3 * weight \n",
    "        prot = 1.0 * weight\n",
    "        carb = 100\n",
    "        print \"So you want to cut back? You will probably want to aim for the following: \"\n",
    "    print \"Calories: %s\\nFat: %sg\\nCarbohydrates: %sg\\nProtein: %sg\" % (cal,fat,carb,prot)\n",
    "##############\n",
    "\n",
    "ob = raw_input(\"Please enter your ojective, bulk, maintain, or cut: \")\n",
    "wei = raw_input(\"Please enter your current body weight: \")\n",
    "\n",
    "userGoals(ob,int(wei))        \n",
    "        \n",
    "        \n",
    "        "
   ]
  },
  {
   "cell_type": "code",
   "execution_count": null,
   "metadata": {
    "collapsed": false
   },
   "outputs": [],
   "source": [
    "#Part 2\n",
    "user_inp = \"1\"\n",
    "calSum = 0\n",
    "fatSum = 0\n",
    "protSum = 0\n",
    "carbSum = 0\n",
    "obj = raw_input(\"State your goal again: \")\n",
    "weight = raw_input(\"State your weight again: \")\n",
    "weight = float(weight)\n",
    "\n",
    "if(obj == \"Bulk\" or obj == \"bulk\" or obj == \"Bulk Up\" or obj == \"bulk up\"):\n",
    "    bulk = True\n",
    "    cal = 2600\n",
    "    fat = .5 * weight \n",
    "    prot = .9 * weight\n",
    "    carb = 300\n",
    "     \n",
    "if(obj == \"maintain\" or obj == \"Maintain\"):\n",
    "    maintain = True\n",
    "    cal = 2100\n",
    "    fat = .4 * weight \n",
    "    prot = .9 * weight\n",
    "    carb = 150\n",
    "      \n",
    "if(obj == \"Cut\" or obj == \"cut\" or obj == \"cutting\"):\n",
    "    cut = True\n",
    "    cal = 1600\n",
    "    fat = .3 * weight \n",
    "    prot = 1.0 * weight\n",
    "    carb = 100\n",
    "    \n",
    "print \"How are you meeting your goals today?\"\n",
    "while(user_inp != -1):\n",
    "    user_inp = raw_input(\"Please enter next food items number calories: \")\n",
    "    calSum += float(user_inp)\n",
    "    user_inp = raw_input(\"Please enter next food items number fat content(g): \")\n",
    "    fatSum += float(user_inp)\n",
    "    user_inp = raw_input(\"Please enter next food items number protein content(g): \")\n",
    "    protSum += float(user_inp)\n",
    "    user_inp = raw_input(\"Please enter next food items number carbohydrates(g): \")\n",
    "    carbSum += float(user_inp)\n",
    "    user_inp = raw_input(\"If this is your last item type -1 else hit 0: \")\n",
    "    user_inp = float(user_inp)\n",
    "\n",
    "print\n",
    "calAvg = (float(calSum)/float(cal))*100.\n",
    "print \"You had %s calories, this is %.1f %% of your daily total goal.\" % (calSum,calAvg)\n",
    "fatAvg = (float(fatSum)/float(fat))*100.\n",
    "print \"You had %s grams of fat, this is %.1f %% of your daily total goal.\" % (fatSum,fatAvg)\n",
    "protAvg = (float(protSum)/float(prot))*100.\n",
    "print \"You had %s grams of protein, this is %.1f %% of your daily total goal.\" % (protSum,protAvg)\n",
    "carbAvg = (float(carbSum)/float(carb))*100.\n",
    "print \"You had %s grams of carbs, this is %.1f %% of your daily total goal.\" % (carbSum,carbAvg)\n",
    "    "
   ]
  },
  {
   "cell_type": "code",
   "execution_count": null,
   "metadata": {
    "collapsed": false
   },
   "outputs": [],
   "source": [
    "#Part 3\n",
    "def workout(bulk,maintain,cut):\n",
    "    if(bulk):\n",
    "        print\"You should take it a bit easier on the cardio at the gym. Try to focus instead on:\"\n",
    "        print\"- Power lifting\"\n",
    "        print\"- Higher weight\"\n",
    "        print\"- Lower repititions\"\n",
    "    if(maintain):\n",
    "        print\"You should do moderate lifting mixed with long-period cardio. It is important to:\"\n",
    "        print\"- Moderate weight on lifts\"\n",
    "        print\"- Moderate repititions\"\n",
    "        print\"- Limit rest times between sets\"\n",
    "        print\"- 30+ minute low-intensity cardio\"\n",
    "    if(cut):\n",
    "        print\"You should focus on body weight workouts or low weight with heavy cardio. This includes: \"\n",
    "        print\"- High intensity cardio (interveral, HIIT, Tabata, etc.)\"\n",
    "        print\"- Lower weight lifts\"\n",
    "        print\"- Higher repititions\"\n",
    "        \n",
    "workout(bulk,maintain,cut)\n"
   ]
  },
  {
   "cell_type": "markdown",
   "metadata": {},
   "source": [
    "**Sources:**\n",
    "\n",
    " *1.*<a href=\"http://healthyeating.sfgate.com/ideally-many-grams-fat-should-consume-daily-5501.html\"> Ideally How Many Grams of Fat Should You Consume Daily</a>\n",
    " \n",
    "*2.*<a href=\"http://www.bodybuilding.com/category/nutrition\"> Bodybuilding Nutrition</a>\n",
    " \n",
    "*3.*<a href=\"https://authoritynutrition.com/how-many-calories-per-day/\"> Caloric Intake</a>\n",
    " \n",
    "*4.*<a href=\"https://health.gov/dietaryguidelines/2015/guidelines/appendix-2/\"> Health.gov Dietary Guidelines</a>"
   ]
  },
  {
   "cell_type": "code",
   "execution_count": null,
   "metadata": {
    "collapsed": true
   },
   "outputs": [],
   "source": []
  }
 ],
 "metadata": {
  "anaconda-cloud": {},
  "kernelspec": {
   "display_name": "Python [default]",
   "language": "python",
   "name": "python2"
  },
  "language_info": {
   "codemirror_mode": {
    "name": "ipython",
    "version": 2
   },
   "file_extension": ".py",
   "mimetype": "text/x-python",
   "name": "python",
   "nbconvert_exporter": "python",
   "pygments_lexer": "ipython2",
   "version": "2.7.12"
  }
 },
 "nbformat": 4,
 "nbformat_minor": 0
}
